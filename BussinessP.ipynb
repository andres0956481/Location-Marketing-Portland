{
 "cells": [
  {
   "cell_type": "markdown",
   "metadata": {},
   "source": [
    "\n",
    "\n",
    "\n",
    "### BUSINESS PROBLEM\n",
    "\n",
    "G.S. is a innovative *HVAC contractor based in the green Oregon state, the company is looking to expand the business  in the most recently open warehouse located in the city rose, Portland.\n",
    "\n",
    "G.S. Marketing department is requesting effective information to create a promotion strategy to apply in the Portland area. The potential customers location will be indispensable to create a add strategy in strategic locations. The Geo-information could be useful to management marketing \n",
    "strategics, among which we can find: ad campaign,  identifying marketing opportunities and solving marketing problems, optimize the advertising\n",
    "budget, analyze areas with more influence from potential buyers, etc.\n",
    "\n"
   ]
  },
  {
   "cell_type": "markdown",
   "metadata": {},
   "source": [
    "### DATA DESCRIPTION\n",
    "The data in relation to the geographical area in Portland it is key to understand the panorama that the city presents, in order to get geo-data, it is extracted from:\n",
    "The zip codes and neighborhoods from Portland OR is downloaded in the web site:                \n",
    "-  www.portlandneighborhood.com\n",
    "- \"Foursquare API\" is the website resource that the project in study request.\n",
    "- The zip codes are downloaded from zip-codes.com in a csv file.\n",
    "\n",
    "In order to get information that is really useful for decision making in the marketing area to G.S in the Portland area, the next points will be required:\n",
    "    \n",
    "    * DataFrames with geo-data: The data is extracted to display the Portland map.\n",
    "    * Foursquare API: Get information about business in the city, this point is very significant, G.S. is a company that serves other companies, they are customers and is important where exactly they are.\n",
    "    * Clustering: In this point, the neighborhood clustering is the goal, get the cluster labels relevant to serve different segments in the most optimal way possible.\n",
    "\n"
   ]
  },
  {
   "cell_type": "markdown",
   "metadata": {},
   "source": [
    "\n",
    "\n",
    "\n",
    "\n",
    "\n"
   ]
  },
  {
   "cell_type": "code",
   "execution_count": null,
   "metadata": {},
   "outputs": [],
   "source": []
  },
  {
   "cell_type": "code",
   "execution_count": null,
   "metadata": {},
   "outputs": [],
   "source": []
  },
  {
   "cell_type": "code",
   "execution_count": null,
   "metadata": {},
   "outputs": [],
   "source": []
  },
  {
   "cell_type": "code",
   "execution_count": null,
   "metadata": {},
   "outputs": [],
   "source": []
  },
  {
   "cell_type": "code",
   "execution_count": null,
   "metadata": {},
   "outputs": [],
   "source": []
  },
  {
   "cell_type": "code",
   "execution_count": null,
   "metadata": {},
   "outputs": [],
   "source": []
  },
  {
   "cell_type": "code",
   "execution_count": null,
   "metadata": {},
   "outputs": [],
   "source": []
  },
  {
   "cell_type": "code",
   "execution_count": null,
   "metadata": {},
   "outputs": [],
   "source": []
  }
 ],
 "metadata": {
  "kernelspec": {
   "display_name": "Python 3",
   "language": "python",
   "name": "python3"
  },
  "language_info": {
   "codemirror_mode": {
    "name": "ipython",
    "version": 3
   },
   "file_extension": ".py",
   "mimetype": "text/x-python",
   "name": "python",
   "nbconvert_exporter": "python",
   "pygments_lexer": "ipython3",
   "version": "3.7.6"
  }
 },
 "nbformat": 4,
 "nbformat_minor": 2
}
